{
  "cells": [
    {
      "cell_type": "markdown",
      "metadata": {
        "id": "yjMr_uYsiJSG"
      },
      "source": [
        "### CLONE GITHUB WITH ENVIRONMENT IMAGES\n"
      ]
    },
    {
      "cell_type": "code",
      "execution_count": null,
      "metadata": {
        "colab": {
          "base_uri": "https://localhost:8080/"
        },
        "id": "aeGyO7dzixtn",
        "outputId": "cabac760-6e13-4e14-9770-94886d5cc04b"
      },
      "outputs": [
        {
          "name": "stdout",
          "output_type": "stream",
          "text": [
            "Cloning into 'ROS_Gazebo'...\n",
            "remote: Enumerating objects: 11318, done.\u001b[K\n",
            "remote: Counting objects: 100% (1780/1780), done.\u001b[K\n",
            "remote: Compressing objects: 100% (1775/1775), done.\u001b[K\n",
            "remote: Total 11318 (delta 5), reused 1780 (delta 5), pack-reused 9538\u001b[K\n",
            "Receiving objects: 100% (11318/11318), 438.69 MiB | 34.94 MiB/s, done.\n",
            "Resolving deltas: 100% (242/242), done.\n",
            "Checking out files: 100% (11567/11567), done.\n"
          ]
        }
      ],
      "source": [
        "\"\"\" Clonando do GitHub as imagens do ambiente simulado \"\"\"\n",
        "\n",
        "! git clone https://github.com/BrunoDalI/ROS_Gazebo.git"
      ]
    },
    {
      "cell_type": "markdown",
      "metadata": {
        "id": "bJZhXN2SuL4L"
      },
      "source": [
        "### DRIVE FOLDER TO SAVE AND LOAD TRAINED MODELS\n"
      ]
    },
    {
      "cell_type": "code",
      "execution_count": null,
      "metadata": {
        "colab": {
          "base_uri": "https://localhost:8080/"
        },
        "id": "YkRD0af3jN6f",
        "outputId": "a0c23eab-40d4-4e93-c384-77e4cebfd573"
      },
      "outputs": [
        {
          "name": "stdout",
          "output_type": "stream",
          "text": [
            "Mounted at /content/drive\n"
          ]
        }
      ],
      "source": [
        "from google.colab import drive\n",
        "drive.mount('/content/drive', force_remount=True)"
      ]
    },
    {
      "cell_type": "markdown",
      "metadata": {
        "id": "GsLWsIDL8dAk"
      },
      "source": [
        "### LIBRARIES IMPORTS"
      ]
    },
    {
      "cell_type": "code",
      "execution_count": null,
      "metadata": {
        "id": "ctVtCFVFiy2G"
      },
      "outputs": [],
      "source": [
        "import os\n",
        "import matplotlib.pyplot as plt\n",
        "import numpy as np\n",
        "import tensorflow as tf\n",
        "import keras\n",
        "import seaborn as sns\n",
        "import pandas as pd\n",
        "from keras.layers.pooling import GlobalAveragePooling2D\n",
        "from keras.callbacks import ReduceLROnPlateau, EarlyStopping"
      ]
    },
    {
      "cell_type": "markdown",
      "metadata": {
        "id": "OTeuiUwclJQz"
      },
      "source": [
        "### GPU CONFIGURATION"
      ]
    },
    {
      "cell_type": "code",
      "execution_count": null,
      "metadata": {
        "id": "_aCdVBfeizWe"
      },
      "outputs": [],
      "source": [
        "import tensorflow as tf\n",
        "device_name = tf.test.gpu_device_name()\n",
        "if device_name != '/device:GPU:0':\n",
        "  raise SystemError('GPU device not found')\n",
        "print('Found GPU at: {}'.format(device_name))"
      ]
    },
    {
      "cell_type": "markdown",
      "metadata": {
        "id": "ciThnhzTbtgG"
      },
      "source": [
        "### GLOBAL VARIABLES"
      ]
    },
    {
      "cell_type": "code",
      "execution_count": null,
      "metadata": {
        "id": "u-yP0T7HjLPm"
      },
      "outputs": [],
      "source": [
        "# Tamanho das imagens\n",
        "image_width = 160\n",
        "image_height = 160\n",
        "image_color_channel = 3\n",
        "#image_color_channel_size = 255\n",
        "image_size = (image_width, image_height)\n",
        "# Imagem RGB\n",
        "image_shape = image_size + (image_color_channel,)\n",
        "\n",
        "\n",
        "# Quantidade de imagens carregadas por vez\n",
        "batch_size = 200\n",
        "# Epocas que a cnn irá percorrer\n",
        "epochs = 200\n",
        "# Taxa de aprendizagem\n",
        "learning_rate = 0.00001\n",
        "\n",
        "# calsse = [0, 1]\n",
        "class_names = ['cozinha', 'quarto', 'sala']"
      ]
    },
    {
      "cell_type": "markdown",
      "metadata": {
        "id": "d168d11d-f309-490e-86e3-2b0b38bf7219"
      },
      "source": [
        "### DATASET CREATION"
      ]
    },
    {
      "cell_type": "code",
      "execution_count": null,
      "metadata": {
        "colab": {
          "base_uri": "https://localhost:8080/"
        },
        "id": "HGXwfxxwjbV_",
        "outputId": "098737d7-e873-4bfb-f6f2-77e212d4bdeb"
      },
      "outputs": [
        {
          "name": "stdout",
          "output_type": "stream",
          "text": [
            "Train cozinha: 2382\n",
            "Train quarto: 2472\n",
            "Train sala: 2525\n",
            "Validation cozinha: 850\n",
            "Validation quarto: 850\n",
            "Validation sala: 850\n",
            "Unknown  cozinha: 543\n",
            "Unknown  quarto: 553\n",
            "Unknown sala: 541\n"
          ]
        }
      ],
      "source": [
        "# Criando dataset de treino e validação\n",
        "# Creation of the train and validation dataset\n",
        "dataset_dir = os.path.join(os.getcwd(), 'ROS_Gazebo')\n",
        "\n",
        "dataset_train_dir = os.path.join(dataset_dir, 'House/Train')\n",
        "dataset_train_cozinha_len = len(os.listdir(os.path.join(dataset_train_dir, 'cozinha')))\n",
        "dataset_train_quarto_len = len(os.listdir(os.path.join(dataset_train_dir, 'quarto')))\n",
        "dataset_train_sala_len = len(os.listdir(os.path.join(dataset_train_dir, 'sala')))\n",
        "\n",
        "dataset_validation_dir = os.path.join(dataset_dir, 'House/Validation')\n",
        "dataset_validation_cozinha_len = len(os.listdir(os.path.join(dataset_validation_dir, 'cozinha')))\n",
        "dataset_validation_quarto_len = len(os.listdir(os.path.join(dataset_validation_dir, 'quarto')))\n",
        "dataset_validation_sala_len = len(os.listdir(os.path.join(dataset_validation_dir, 'sala')))\n",
        "\n",
        "\n",
        "print('Train cozinha: %s' % dataset_train_cozinha_len)\n",
        "print('Train quarto: %s' % dataset_train_quarto_len)\n",
        "print('Train sala: %s' % dataset_train_sala_len)\n",
        "print('Validation cozinha: %s' % dataset_validation_cozinha_len)\n",
        "print('Validation quarto: %s' % dataset_validation_quarto_len)\n",
        "print('Validation sala: %s' % dataset_validation_sala_len)"
      ]
    },
    {
      "cell_type": "code",
      "execution_count": null,
      "metadata": {
        "colab": {
          "base_uri": "https://localhost:8080/"
        },
        "id": "sQQuQq_k4AK0",
        "outputId": "e633db97-fd5b-4978-8127-504abf1fc7e9"
      },
      "outputs": [
        {
          "name": "stdout",
          "output_type": "stream",
          "text": [
            "Found 7379 files belonging to 3 classes.\n"
          ]
        }
      ],
      "source": [
        "# Verifica a quantidade de imagens por classe do datase_train\n",
        "# Checks the number of images per datase_train class\n",
        "dataset_train = tf.keras.preprocessing.image_dataset_from_directory(\n",
        "    dataset_train_dir,\n",
        "    image_size = image_size,\n",
        "    batch_size = batch_size,\n",
        "    shuffle = True\n",
        ")"
      ]
    },
    {
      "cell_type": "code",
      "execution_count": null,
      "metadata": {
        "colab": {
          "base_uri": "https://localhost:8080/"
        },
        "id": "VRkIIw4P4FOE",
        "outputId": "cdf06c92-2364-4a3f-e616-f6550ba82f7a"
      },
      "outputs": [
        {
          "name": "stdout",
          "output_type": "stream",
          "text": [
            "Found 2550 files belonging to 3 classes.\n"
          ]
        }
      ],
      "source": [
        "# Verifica a quantidade de imagens por classe do datase_validation\n",
        "# Check the number of images per datase_validation class\n",
        "dataset_validation = tf.keras.preprocessing.image_dataset_from_directory(\n",
        "    dataset_validation_dir,\n",
        "    image_size = (image_width, image_height),\n",
        "    batch_size = batch_size,\n",
        "    shuffle = True\n",
        ")"
      ]
    },
    {
      "cell_type": "code",
      "execution_count": null,
      "metadata": {
        "colab": {
          "base_uri": "https://localhost:8080/"
        },
        "id": "7pqGfi-FpgMA",
        "outputId": "857379a6-8f0e-476c-9787-bc31e8af1f43"
      },
      "outputs": [
        {
          "name": "stdout",
          "output_type": "stream",
          "text": [
            "Validation Dataset Cardinality: 11\n",
            "Test Dataset Cardinality: 2\n"
          ]
        }
      ],
      "source": [
        "# Criando um dataset para validar o modelo que foi treinado\n",
        "# Creating a dataset to validate the model that was trained\n",
        "dataset_validation_cardinality = tf.data.experimental.cardinality(dataset_validation)\n",
        "dataset_validation_batches = dataset_validation_cardinality // 5\n",
        "\n",
        "dataset_test = dataset_validation.take(dataset_validation_batches)\n",
        "dataset_validation = dataset_validation.skip(dataset_validation_batches)\n",
        "\n",
        "print('Validation Dataset Cardinality: %d' % tf.data.experimental.cardinality(dataset_validation))\n",
        "print('Test Dataset Cardinality: %d' % tf.data.experimental.cardinality(dataset_test))"
      ]
    },
    {
      "cell_type": "code",
      "execution_count": null,
      "metadata": {
        "colab": {
          "base_uri": "https://localhost:8080/"
        },
        "id": "_4iSlfeXi7IH",
        "outputId": "ae1ffa12-8ab5-46c6-fc80-ebe02aa23ff3"
      },
      "outputs": [
        {
          "name": "stdout",
          "output_type": "stream",
          "text": [
            "Found 7379 files belonging to 3 classes.\n",
            "Using 5904 files for training.\n"
          ]
        }
      ],
      "source": [
        "train_ds = tf.keras.preprocessing.image_dataset_from_directory(\n",
        "    dataset_train_dir,\n",
        "    validation_split=0.2,\n",
        "    subset=\"training\",\n",
        "    seed=42,\n",
        "    image_size=image_size,\n",
        "    batch_size=batch_size,\n",
        ")"
      ]
    },
    {
      "cell_type": "code",
      "execution_count": null,
      "metadata": {
        "colab": {
          "base_uri": "https://localhost:8080/"
        },
        "id": "ya108g7Vi7Pu",
        "outputId": "0a508a61-b763-4bd4-9df2-adf60e2a3c29"
      },
      "outputs": [
        {
          "name": "stdout",
          "output_type": "stream",
          "text": [
            "Found 2550 files belonging to 3 classes.\n",
            "Using 510 files for validation.\n"
          ]
        }
      ],
      "source": [
        "val_ds = tf.keras.preprocessing.image_dataset_from_directory(\n",
        "    dataset_validation_dir,\n",
        "    validation_split=0.2,\n",
        "    subset=\"validation\",\n",
        "    seed=42,\n",
        "    image_size=image_size,\n",
        "    batch_size=batch_size,\n",
        ")"
      ]
    },
    {
      "cell_type": "code",
      "execution_count": null,
      "metadata": {
        "id": "YFZAQq9CjsDP"
      },
      "outputs": [],
      "source": [
        "plt.figure(figsize=(10, 10))\n",
        "for images, labels in dataset_train.take(1):\n",
        "    for i in range(9):\n",
        "        ax = plt.subplot(3, 3, i + 1)\n",
        "        plt.imshow(images[i].numpy().astype(\"uint8\"))\n",
        "        plt.title(int(labels[i]))\n",
        "        plt.axis(\"off\")"
      ]
    },
    {
      "cell_type": "markdown",
      "metadata": {
        "id": "11f32cec-305d-4621-b765-45438794ad48"
      },
      "source": [
        "### DATA AUGMENTATION"
      ]
    },
    {
      "cell_type": "code",
      "execution_count": null,
      "metadata": {
        "id": "81h35cBbkC2n"
      },
      "outputs": [],
      "source": [
        "# Para realizar rotação e mudança nas dimensões das imagens para melhorar a accurancy\n",
        "# To perform rotation and change in dimensions of images to improve accurancy\n",
        "data_augmentation = tf.keras.Sequential(\n",
        "    [\n",
        "        tf.keras.layers.RandomFlip(\"horizontal\"),\n",
        "        tf.keras.layers.RandomRotation(0.2),\n",
        "    ]\n",
        ")"
      ]
    },
    {
      "cell_type": "code",
      "execution_count": null,
      "metadata": {
        "id": "-z-oBZtPkLzw"
      },
      "outputs": [],
      "source": [
        "# Mostrar o resultado das imagens com aplicação do data_augmentation\n",
        "# Show the result of images with application of the data_augmentation\n",
        "plt.figure(figsize=(10, 10))\n",
        "for images, _ in train_ds.take(1):\n",
        "    for i in range(9):\n",
        "        augmented_images = data_augmentation(images)\n",
        "        ax = plt.subplot(3, 3, i + 1)\n",
        "        plt.imshow(augmented_images[0].numpy().astype(\"uint8\"))\n",
        "        plt.axis(\"off\")"
      ]
    },
    {
      "cell_type": "markdown",
      "metadata": {
        "id": "50565ae7-05b0-4372-a1d0-5bbf2975b33d"
      },
      "source": [
        "### CNN MODEL ARCHITECTURE"
      ]
    },
    {
      "cell_type": "code",
      "execution_count": null,
      "metadata": {
        "colab": {
          "base_uri": "https://localhost:8080/"
        },
        "id": "U6DhncsukP8O",
        "outputId": "015e96b2-c180-4882-c48e-8d3877db3bc8"
      },
      "outputs": [
        {
          "name": "stdout",
          "output_type": "stream",
          "text": [
            "Model: \"model\"\n",
            "_________________________________________________________________\n",
            " Layer (type)                Output Shape              Param #   \n",
            "=================================================================\n",
            " input_1 (InputLayer)        [(None, 160, 160, 3)]     0         \n",
            "                                                                 \n",
            " sequential (Sequential)     (None, 160, 160, 3)       0         \n",
            "                                                                 \n",
            " rescaling (Rescaling)       (None, 160, 160, 3)       0         \n",
            "                                                                 \n",
            " conv2d (Conv2D)             (None, 160, 160, 32)      896       \n",
            "                                                                 \n",
            " conv2d_1 (Conv2D)           (None, 160, 160, 32)      9248      \n",
            "                                                                 \n",
            " max_pooling2d (MaxPooling2D  (None, 80, 80, 32)       0         \n",
            " )                                                               \n",
            "                                                                 \n",
            " conv2d_2 (Conv2D)           (None, 80, 80, 64)        18496     \n",
            "                                                                 \n",
            " conv2d_3 (Conv2D)           (None, 80, 80, 64)        36928     \n",
            "                                                                 \n",
            " max_pooling2d_1 (MaxPooling  (None, 40, 40, 64)       0         \n",
            " 2D)                                                             \n",
            "                                                                 \n",
            " conv2d_4 (Conv2D)           (None, 40, 40, 128)       73856     \n",
            "                                                                 \n",
            " conv2d_5 (Conv2D)           (None, 40, 40, 128)       147584    \n",
            "                                                                 \n",
            " max_pooling2d_2 (MaxPooling  (None, 20, 20, 128)      0         \n",
            " 2D)                                                             \n",
            "                                                                 \n",
            " flatten (Flatten)           (None, 51200)             0         \n",
            "                                                                 \n",
            " dense (Dense)               (None, 128)               6553728   \n",
            "                                                                 \n",
            " dense_1 (Dense)             (None, 18)                2322      \n",
            "                                                                 \n",
            " dense_2 (Dense)             (None, 64)                1216      \n",
            "                                                                 \n",
            " dense_3 (Dense)             (None, 3)                 195       \n",
            "                                                                 \n",
            "=================================================================\n",
            "Total params: 6,844,469\n",
            "Trainable params: 6,844,469\n",
            "Non-trainable params: 0\n",
            "_________________________________________________________________\n"
          ]
        }
      ],
      "source": [
        "inputs = keras.Input(shape=image_shape)\n",
        "x = data_augmentation(inputs)\n",
        "x = tf.keras.layers.Rescaling(1./255)(x)\n",
        "x = tf.keras.layers.Conv2D(32, 3, padding = 'same', activation = 'relu')(x)\n",
        "x = tf.keras.layers.Conv2D(32, 3, padding = 'same', activation = 'relu')(x)\n",
        "x = tf.keras.layers.MaxPooling2D()(x)\n",
        "x = tf.keras.layers.Conv2D(64, 3, padding = 'same', activation = 'relu')(x)\n",
        "x = tf.keras.layers.Conv2D(64, 3, padding = 'same', activation = 'relu')(x)\n",
        "x = tf.keras.layers.MaxPooling2D()(x)\n",
        "x = tf.keras.layers.Conv2D(128, 3, padding = 'same', activation = 'relu')(x)\n",
        "x = tf.keras.layers.Conv2D(128, 3, padding = 'same', activation = 'relu')(x)\n",
        "x = tf.keras.layers.MaxPooling2D()(x)\n",
        "x = tf.keras.layers.Flatten()(x)\n",
        "x = tf.keras.layers.Dense(128, activation = 'relu')(x)\n",
        "x = tf.keras.layers.Dense(18, activation = 'relu')(x)\n",
        "x = tf.keras.layers.Dense(64, activation = 'relu')(x)\n",
        "output = tf.keras.layers.Dense(3, activation = 'sigmoid')(x)\n",
        "\n",
        "\n",
        "model = tf.keras.Model(inputs=inputs, outputs=output)\n",
        "model.summary()"
      ]
    },
    {
      "cell_type": "code",
      "execution_count": null,
      "metadata": {
        "colab": {
          "base_uri": "https://localhost:8080/",
          "height": 1000
        },
        "id": "ci4MFRYXlAC4",
        "outputId": "795f3609-e792-4873-a5ef-f2fde41b4f79"
      },
      "outputs": [
        {
          "data": {
            "image/png": "[encoded data removed]",
            "text/plain": [
              "<IPython.core.display.Image object>"
            ]
          },
          "execution_count": 12,
          "metadata": {},
          "output_type": "execute_result"
        }
      ],
      "source": [
        "# Salva modelo em um .png\n",
        "tf.keras.utils.plot_model(model, to_file= 'model.png')"
      ]
    },
    {
      "cell_type": "markdown",
      "metadata": {
        "id": "07cw2QCInGGN"
      },
      "source": [
        "### MODEL FIT"
      ]
    },
    {
      "cell_type": "code",
      "execution_count": null,
      "metadata": {
        "id": "C-3WFuGBlHCG"
      },
      "outputs": [],
      "source": [
        "model.compile(loss=tf.keras.losses.SparseCategoricalCrossentropy(), \n",
        "               optimizer=tf.keras.optimizers.RMSprop(learning_rate=learning_rate, rho=0.99), metrics=['acc'])"
      ]
    },
    {
      "cell_type": "code",
      "execution_count": null,
      "metadata": {
        "colab": {
          "background_save": true,
          "base_uri": "https://localhost:8080/"
        },
        "id": "ZSe4JdaHlNfI",
        "outputId": "889dcf11-3206-4c78-9266-c57f94bccece"
      },
      "outputs": [
        {
          "name": "stdout",
          "output_type": "stream",
          "text": [
            "Epoch 1/200\n",
            "30/30 [==============================] - 982s 33s/step - loss: 1.0102 - acc: 0.5344 - val_loss: 0.8659 - val_acc: 0.6255\n",
            "Epoch 2/200\n",
            "30/30 [==============================] - 979s 33s/step - loss: 0.7715 - acc: 0.6853 - val_loss: 0.6997 - val_acc: 0.7157\n",
            "Epoch 3/200\n",
            "30/30 [==============================] - 984s 33s/step - loss: 0.6599 - acc: 0.7364 - val_loss: 0.6771 - val_acc: 0.7706\n",
            "Epoch 4/200\n",
            "18/30 [=================>............] - ETA: 6:32 - loss: 0.6399 - acc: 0.7378"
          ]
        }
      ],
      "source": [
        "\n",
        "history = model.fit(\n",
        "    train_ds, \n",
        "    epochs=epochs,\n",
        "    validation_data = val_ds,\n",
        ")"
      ]
    },
    {
      "cell_type": "markdown",
      "metadata": {
        "id": "Pq8La7L8o1Tk"
      },
      "source": [
        "### MODEL EVALUATION"
      ]
    },
    {
      "cell_type": "code",
      "source": [
        "\"\"\" Clonando do GitHub as imagens do ambiente simulado \"\"\"\n",
        "\n",
        "! git clone https://github.com/BrunoDalI/ROS_Gazebo2.git"
      ],
      "metadata": {
        "id": "znglWUx4CbO1"
      },
      "execution_count": null,
      "outputs": []
    },
    {
      "cell_type": "code",
      "source": [
        "dataset_dir = os.path.join(os.getcwd(), 'ROS_Gazebo')\n",
        "dataset_unknown_dir = os.path.join(dataset_dir, 'House/Unknown')\n",
        "dataset_unknown_cozinha_len = len(os.listdir(os.path.join(dataset_unknown_dir, 'cozinha')))\n",
        "dataset_unknown_quarto_len = len(os.listdir(os.path.join(dataset_unknown_dir, 'quarto')))\n",
        "dataset_unknown_sala_len = len(os.listdir(os.path.join(dataset_unknown_dir, 'sala')))\n",
        "\n",
        "print('Unknown  cozinha: %s' % dataset_unknown_cozinha_len)\n",
        "print('Unknown  quarto: %s' % dataset_unknown_quarto_len)\n",
        "print('Unknown sala: %s' % dataset_unknown_sala_len)"
      ],
      "metadata": {
        "id": "7ZfAJgAmFSag"
      },
      "execution_count": null,
      "outputs": []
    },
    {
      "cell_type": "code",
      "execution_count": null,
      "metadata": {
        "id": "ld6qOhGKaD1Y"
      },
      "outputs": [],
      "source": [
        "# Criando um dataset para validar o modelo que foi treinado\n",
        "# Creating a dataset to validate the model that was trained\n",
        "dataset_unknown_cardinality = tf.data.experimental.cardinality(dataset_unknown)\n",
        "dataset_unknown_batches = dataset_unknown_cardinality // 5\n",
        "\n",
        "dataset_test = dataset_unknown.take(dataset_unknown_batches)\n",
        "dataset_unknown = dataset_unknown.skip(dataset_unknown_batches)\n",
        "\n",
        "print('Unknown Dataset Cardinality: %d' % tf.data.experimental.cardinality(dataset_unknown))\n",
        "print('Test Dataset Cardinality: %d' % tf.data.experimental.cardinality(dataset_test))"
      ]
    },
    {
      "cell_type": "code",
      "execution_count": null,
      "metadata": {
        "id": "c4OKAFYkmV06"
      },
      "outputs": [],
      "source": [
        "# Avaliação do modelo utilizado\n",
        "# Evaluation of the model used\n",
        "dataset_test_loss, dataset_test_accuracy = model.evaluate(dataset_test)\n",
        "\n",
        "print('Dataset Test Loss:     %s' % dataset_test_loss)\n",
        "print('Dataset Test Accuracy: %s' % dataset_test_accuracy)"
      ]
    },
    {
      "cell_type": "code",
      "execution_count": null,
      "metadata": {
        "id": "FvWN7gKgNb-G"
      },
      "outputs": [],
      "source": [
        "# Função para avaliar a rede cnn\n",
        "def plot_model():\n",
        "    accuracy = history.history['accuracy']\n",
        "    val_accuracy = history.history['val_accuracy']\n",
        "\n",
        "    loss = history.history['loss']\n",
        "    val_loss = history.history['val_loss']\n",
        "\n",
        "    epochs_range = range(epochs)\n",
        "\n",
        "    plt.gcf().clear()\n",
        "    plt.figure(figsize = (15, 8))\n",
        "\n",
        "    plt.subplot(1, 2, 1)\n",
        "    plt.title('Training and Validation Accuracy')\n",
        "    plt.plot(epochs_range, accuracy, label = 'Training Accuracy')\n",
        "    plt.plot(epochs_range, val_accuracy, label = 'Validation Accuracy')\n",
        "    plt.legend(loc = 'lower right')\n",
        "\n",
        "    plt.subplot(1, 2, 2)\n",
        "    plt.title('Training and Validation Loss')\n",
        "    plt.plot(epochs_range, loss, label = 'Training Loss')\n",
        "    plt.plot(epochs_range, val_loss, label = 'Validation Loss')\n",
        "    plt.legend(loc = 'lower right')\n",
        "\n",
        "    plt.show()"
      ]
    },
    {
      "cell_type": "code",
      "execution_count": null,
      "metadata": {
        "id": "Ab2Sbxg_WZRt"
      },
      "outputs": [],
      "source": [
        "# Chamada e verificação da avaliação da cnn aplicada\n",
        "plot_model()"
      ]
    },
    {
      "cell_type": "markdown",
      "metadata": {
        "id": "nxJ4YtkMqTw6"
      },
      "source": [
        "### SAVE MODEL"
      ]
    },
    {
      "cell_type": "code",
      "execution_count": null,
      "metadata": {
        "id": "w4S5Fq6gq6km"
      },
      "outputs": [],
      "source": [
        "model.save('/content/drive/MyDrive/Colab Notebooks/Save_Models/model1_acc{dataset_test_accuracy}')"
      ]
    },
    {
      "cell_type": "markdown",
      "metadata": {
        "id": "AJzagx-hnk1Q"
      },
      "source": [
        "### LOAD MODEL"
      ]
    },
    {
      "cell_type": "code",
      "execution_count": null,
      "metadata": {
        "id": "w4TB3k96mVye"
      },
      "outputs": [],
      "source": [
        "model = tf.keras.models.load_model('/content/drive/MyDrive/Colab Notebooks/Save_Models/model1_acc0.9950000047683716')"
      ]
    },
    {
      "cell_type": "code",
      "execution_count": null,
      "metadata": {
        "colab": {
          "base_uri": "https://localhost:8080/"
        },
        "id": "RuRQKtSk52Si",
        "outputId": "10e98a2d-4b7f-4d37-df83-c3b11a6cee45"
      },
      "outputs": [
        {
          "name": "stdout",
          "output_type": "stream",
          "text": [
            "2/2 [==============================] - 18s 7s/step - loss: 0.0162 - acc: 0.9950\n",
            "Dataset Test Loss:     0.016208907589316368\n",
            "Dataset Test Accuracy: 0.9950000047683716\n"
          ]
        }
      ],
      "source": [
        "# Avaliação do modelo utilizado\n",
        "# Evaluation of the model used\n",
        "dataset_test_loss, dataset_test_accuracy = model.evaluate(dataset_test)\n",
        "\n",
        "print('Dataset Test Loss:     %s' % dataset_test_loss)\n",
        "print('Dataset Test Accuracy: %s' % dataset_test_accuracy)"
      ]
    },
    {
      "cell_type": "markdown",
      "metadata": {
        "id": "QbZHT-o7pqk-"
      },
      "source": [
        "### PREDICTIONS"
      ]
    },
    {
      "cell_type": "markdown",
      "metadata": {
        "id": "M705Um-MXUT1"
      },
      "source": [
        "### GET LABELS"
      ]
    },
    {
      "cell_type": "code",
      "execution_count": null,
      "metadata": {
        "id": "oTvBFWDn7cpc"
      },
      "outputs": [],
      "source": [
        "features, labels = dataset_test.as_numpy_iterator().next()\n",
        "features.shape"
      ]
    },
    {
      "cell_type": "code",
      "execution_count": null,
      "metadata": {
        "id": "e3Q0ks_opREu"
      },
      "outputs": [],
      "source": [
        "labels.shape"
      ]
    },
    {
      "cell_type": "code",
      "execution_count": null,
      "metadata": {
        "id": "XJq7cevQ7f9q"
      },
      "outputs": [],
      "source": [
        "predictions = model.predict(features)\n",
        "predictions.shape"
      ]
    },
    {
      "cell_type": "markdown",
      "metadata": {
        "id": "1MvdrAzApJ9G"
      },
      "source": [
        "### CONFUSION MATRIX"
      ]
    },
    {
      "cell_type": "code",
      "execution_count": null,
      "metadata": {
        "id": "iG_UPoUVpC2O"
      },
      "outputs": [],
      "source": [
        "# Função que mostra o gráfico de matriz de confusão\n",
        "# Function that shows the confusion matrix graph\n",
        "def confusion_matrix_plot(y, y_pred, dataset='Test'):\n",
        "  cm = tf.math.confusion_matrix( y, y_pred).numpy()\n",
        "  df_cm = pd.DataFrame(cm, index = [i for i in [\"cozinha\",\"quarto\", \"sala\"]],\n",
        "                columns = [i for i in [\"Predict cozinha\",\"Predict quarto\", \"Predict sala\"]])\n",
        "  group_counts = [\"{0:0.0f}\".format(value) for value in\n",
        "              cm.flatten()]\n",
        "  group_percentages = [\"{0:.2%}\".format(value) for value in\n",
        "                        cm.flatten()/np.sum(cm)]\n",
        "  labels = [f\"{v1}\\n{v2}\" for v1, v2 in\n",
        "            zip(group_counts,group_percentages)]\n",
        "  labels = np.asarray(labels).reshape(3,3)\n",
        "  plt.figure(figsize = (10,6))\n",
        "  sns.heatmap(df_cm, annot=labels,fmt='', cmap='crest')\n",
        "  plt.ylabel('\\nTrue label\\n', fontsize=14, fontweight='bold')\n",
        "  plt.xlabel('\\nPredicted label\\n', fontsize=14, fontweight='bold')\n",
        "  plt.title(f'\\n{dataset} Confusion Matrix\\n', fontsize=20, fontweight='bold')"
      ]
    },
    {
      "cell_type": "code",
      "execution_count": null,
      "metadata": {
        "id": "n0PySt6jtHF9"
      },
      "outputs": [],
      "source": [
        "predictions"
      ]
    },
    {
      "cell_type": "code",
      "execution_count": null,
      "metadata": {
        "colab": {
          "base_uri": "https://localhost:8080/"
        },
        "id": "fM-XnfTgtHlV",
        "outputId": "a6079109-873e-41ad-c3fc-53d9f598c082"
      },
      "outputs": [
        {
          "data": {
            "text/plain": [
              "array([1, 2, 1, 0, 0, 1, 1, 0, 1, 0, 2, 1, 1, 0, 0, 0, 1, 2, 0, 0, 1, 0,\n",
              "       1, 0, 0, 1, 0, 0, 2, 1, 0, 1, 1, 0, 1, 0, 0, 1, 2, 2, 2, 1, 0, 2,\n",
              "       0, 0, 0, 1, 0, 0, 2, 1, 1, 1, 0, 2, 2, 1, 0, 2, 1, 2, 0, 0, 2, 0,\n",
              "       1, 0, 1, 2, 0, 0, 0, 1, 2, 1, 1, 1, 2, 0, 0, 0, 1, 1, 1, 2, 1, 0,\n",
              "       0, 1, 2, 0, 1, 0, 1, 1, 1, 0, 2, 1, 2, 1, 1, 1, 2, 2, 1, 1, 2, 1,\n",
              "       2, 0, 1, 2, 0, 0, 2, 2, 1, 0, 0, 1, 0, 0, 2, 1, 2, 0, 0, 0, 2, 0,\n",
              "       0, 0, 2, 2, 0, 0, 2, 2, 1, 2, 0, 1, 0, 1, 1, 2, 0, 2, 2, 2, 0, 0,\n",
              "       1, 1, 2, 0, 2, 1, 1, 0, 1, 1, 0, 1, 1, 1, 2, 0, 2, 0, 2, 1, 1, 2,\n",
              "       2, 1, 2, 2, 0, 1, 0, 1, 2, 2, 0, 1, 0, 1, 0, 1, 0, 1, 2, 1, 0, 1,\n",
              "       2, 2])"
            ]
          },
          "execution_count": 26,
          "metadata": {},
          "output_type": "execute_result"
        }
      ],
      "source": [
        "np.argmax(predictions, axis=1)"
      ]
    },
    {
      "cell_type": "code",
      "execution_count": null,
      "metadata": {
        "colab": {
          "base_uri": "https://localhost:8080/",
          "height": 489
        },
        "id": "5Z19fQBdtKUm",
        "outputId": "ef132d4f-d51d-4cb5-cf23-7d36aa232ade"
      },
      "outputs": [
        {
          "data": {
            "image/png": "[encoded data removed]",
            "text/plain": [
              "<Figure size 720x432 with 2 Axes>"
            ]
          },
          "metadata": {},
          "output_type": "display_data"
        }
      ],
      "source": [
        "confusion_matrix_plot(labels,np.argmax(predictions, axis=1))"
      ]
    },
    {
      "cell_type": "code",
      "execution_count": null,
      "metadata": {
        "id": "S3EMWPEkWZXE"
      },
      "outputs": [],
      "source": [
        "def ambiente(b):\n",
        "  a = b[23:24]\n",
        "  if a == '1':\n",
        "    a = 'Cozinha'\n",
        "  elif a == '2':\n",
        "    a = 'Quarto'\n",
        "  elif a == '3':\n",
        "    a = 'Sala'\n",
        "  return a"
      ]
    },
    {
      "cell_type": "code",
      "execution_count": null,
      "metadata": {
        "id": "4t9IJxaVNffm"
      },
      "outputs": [],
      "source": [
        "def predict(image_file):\n",
        "    amb = ambiente(image_file)\n",
        "    image = tf.keras.preprocessing.image.load_img(image_file, target_size = image_size)\n",
        "    image = tf.keras.preprocessing.image.img_to_array(image)\n",
        "    image = tf.expand_dims(image, 0)\n",
        "\n",
        "    prediction = model.predict(image)[0][0]\n",
        "    print('Prediction: {0} | {1}'.format(prediction, amb if prediction > 0.5 else 'Não é', amb))"
      ]
    },
    {
      "cell_type": "code",
      "execution_count": null,
      "metadata": {
        "id": "nkMqUpSTS_h1"
      },
      "outputs": [],
      "source": [
        "predict(\"C:/Users/Diogo/Desktop/1.jpg\")   "
      ]
    }
  ],
  "metadata": {
    "colab": {
      "collapsed_sections": [],
      "name": "CNN_TCC",
      "provenance": []
    },
    "kernelspec": {
      "display_name": "Python 3",
      "name": "python3"
    },
    "language_info": {
      "name": "python"
    }
  },
  "nbformat": 4,
  "nbformat_minor": 0
}